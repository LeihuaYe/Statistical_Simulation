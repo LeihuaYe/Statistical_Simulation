{
 "cells": [
  {
   "cell_type": "markdown",
   "metadata": {},
   "source": [
    "# Part 1: A/A tests for Normal Distribution"
   ]
  },
  {
   "cell_type": "markdown",
   "metadata": {},
   "source": [
    "- split the users into two groups & assign the same treatment to both groups \n",
    "- In repeated trials, 5% of the time a given metric should be statistically significant & p < 0.05. \n",
    "- conduct t-tests to compute p-values & the distribution of p-values from repeated trials form a uniform distribution "
   ]
  },
  {
   "cell_type": "markdown",
   "metadata": {},
   "source": [
    "# 1. simulate the hashing process & single iteration"
   ]
  },
  {
   "cell_type": "code",
   "execution_count": 4,
   "metadata": {},
   "outputs": [],
   "source": [
    "import numpy as np\n",
    "\n",
    "# 1: population\n",
    "np.random.seed(123)\n",
    "\n",
    "population = np.random.normal(loc = 100, scale = 5, size = 1000)"
   ]
  },
  {
   "cell_type": "code",
   "execution_count": 5,
   "metadata": {},
   "outputs": [
    {
     "data": {
      "text/plain": [
       "Ttest_indResult(statistic=-0.5697163252872851, pvalue=0.568998328712083)"
      ]
     },
     "execution_count": 5,
     "metadata": {},
     "output_type": "execute_result"
    }
   ],
   "source": [
    "import random\n",
    "\n",
    "A_1 = []\n",
    "\n",
    "A_2 = []\n",
    "\n",
    "for i in population:\n",
    "    \n",
    "    hash_val = random.random()\n",
    "    \n",
    "    if hash_val <= 0.5:\n",
    "        A_2.append(i)\n",
    "        \n",
    "    else:\n",
    "        A_1.append(i)\n",
    "        \n",
    "# two sample t test \n",
    "from scipy import stats\n",
    "\n",
    "stats.ttest_ind(A_1,A_2)"
   ]
  },
  {
   "cell_type": "markdown",
   "metadata": {},
   "source": [
    "# 2. run A/A 10,000 times & check False Positive Rate"
   ]
  },
  {
   "cell_type": "code",
   "execution_count": 2,
   "metadata": {},
   "outputs": [],
   "source": [
    "import random\n",
    "from scipy import stats"
   ]
  },
  {
   "cell_type": "markdown",
   "metadata": {},
   "source": [
    "### solution 1: eyeball "
   ]
  },
  {
   "cell_type": "code",
   "execution_count": 6,
   "metadata": {},
   "outputs": [],
   "source": [
    "count_5_perc = 0 #False Positives\n",
    "count_10_perc = 0\n",
    "count_20_perc = 0\n",
    "count_30_perc = 0\n",
    "count_40_perc = 0\n",
    "count_50_perc = 0\n",
    "count_60_perc = 0\n",
    "count_70_perc = 0\n",
    "count_80_perc = 0\n",
    "count_90_perc = 0\n",
    "\n",
    "for i in range(10000):\n",
    "    \n",
    "    A_1 = []\n",
    "    \n",
    "    A_2 = []\n",
    "    \n",
    "    for j in population:\n",
    "        \n",
    "        hash_val = random.random()\n",
    "        \n",
    "        if hash_val <= 0.5:\n",
    "            A_2.append(j)\n",
    "        \n",
    "        else:\n",
    "            A_1.append(j)\n",
    "        \n",
    "    result = stats.ttest_ind(A_1,A_2)\n",
    "        \n",
    "    if result.pvalue <= 0.1:\n",
    "        count_10_perc+=1\n",
    "        \n",
    "    elif 0.1<result.pvalue<=0.2:\n",
    "        count_20_perc+=1\n",
    "    \n",
    "    elif 0.2<result.pvalue<=0.3:\n",
    "        count_30_perc+=1\n",
    "        \n",
    "    elif 0.3<result.pvalue<=0.4:\n",
    "        count_40_perc+=1\n",
    "        \n",
    "    elif 0.4<result.pvalue<=0.5:\n",
    "        count_50_perc+=1\n",
    "        \n",
    "    elif 0.5<result.pvalue<=0.6:\n",
    "        count_60_perc+=1\n",
    "        \n",
    "    elif 0.6<result.pvalue<=0.7:\n",
    "        count_70_perc+=1\n",
    "        \n",
    "    elif 0.7<result.pvalue<=0.8:\n",
    "        count_80_perc+=1\n",
    "        \n",
    "    elif 0.8<result.pvalue<=0.9:\n",
    "        count_90_perc+=1"
   ]
  },
  {
   "cell_type": "code",
   "execution_count": 7,
   "metadata": {},
   "outputs": [
    {
     "data": {
      "text/plain": [
       "0.0997"
      ]
     },
     "execution_count": 7,
     "metadata": {},
     "output_type": "execute_result"
    }
   ],
   "source": [
    "count_10_perc/10000"
   ]
  },
  {
   "cell_type": "code",
   "execution_count": 8,
   "metadata": {},
   "outputs": [
    {
     "data": {
      "text/plain": [
       "0.1035"
      ]
     },
     "execution_count": 8,
     "metadata": {},
     "output_type": "execute_result"
    }
   ],
   "source": [
    "count_20_perc/10000"
   ]
  },
  {
   "cell_type": "code",
   "execution_count": 9,
   "metadata": {},
   "outputs": [
    {
     "data": {
      "text/plain": [
       "0.0986"
      ]
     },
     "execution_count": 9,
     "metadata": {},
     "output_type": "execute_result"
    }
   ],
   "source": [
    "count_30_perc/10000"
   ]
  },
  {
   "cell_type": "code",
   "execution_count": 10,
   "metadata": {},
   "outputs": [
    {
     "data": {
      "text/plain": [
       "0.0946"
      ]
     },
     "execution_count": 10,
     "metadata": {},
     "output_type": "execute_result"
    }
   ],
   "source": [
    "count_40_perc/10000"
   ]
  },
  {
   "cell_type": "code",
   "execution_count": 11,
   "metadata": {},
   "outputs": [
    {
     "data": {
      "text/plain": [
       "0.0946"
      ]
     },
     "execution_count": 11,
     "metadata": {},
     "output_type": "execute_result"
    }
   ],
   "source": [
    "count_40_perc/10000"
   ]
  },
  {
   "cell_type": "code",
   "execution_count": 12,
   "metadata": {},
   "outputs": [
    {
     "data": {
      "text/plain": [
       "0.1012"
      ]
     },
     "execution_count": 12,
     "metadata": {},
     "output_type": "execute_result"
    }
   ],
   "source": [
    "count_50_perc/10000"
   ]
  },
  {
   "cell_type": "code",
   "execution_count": 13,
   "metadata": {},
   "outputs": [
    {
     "data": {
      "text/plain": [
       "0.099"
      ]
     },
     "execution_count": 13,
     "metadata": {},
     "output_type": "execute_result"
    }
   ],
   "source": [
    "count_60_perc/10000"
   ]
  },
  {
   "cell_type": "code",
   "execution_count": 14,
   "metadata": {},
   "outputs": [
    {
     "data": {
      "text/plain": [
       "0.1038"
      ]
     },
     "execution_count": 14,
     "metadata": {},
     "output_type": "execute_result"
    }
   ],
   "source": [
    "count_70_perc/10000"
   ]
  },
  {
   "cell_type": "code",
   "execution_count": 15,
   "metadata": {},
   "outputs": [
    {
     "data": {
      "text/plain": [
       "0.1004"
      ]
     },
     "execution_count": 15,
     "metadata": {},
     "output_type": "execute_result"
    }
   ],
   "source": [
    "count_80_perc/10000"
   ]
  },
  {
   "cell_type": "code",
   "execution_count": 16,
   "metadata": {},
   "outputs": [
    {
     "data": {
      "text/plain": [
       "0.0984"
      ]
     },
     "execution_count": 16,
     "metadata": {},
     "output_type": "execute_result"
    }
   ],
   "source": [
    "count_90_perc/10000"
   ]
  },
  {
   "cell_type": "markdown",
   "metadata": {},
   "source": [
    "---"
   ]
  },
  {
   "cell_type": "code",
   "execution_count": 17,
   "metadata": {},
   "outputs": [],
   "source": [
    "# solution 2: perform a formal test using the Kolmogorov-Smirnov test (one-sample) for goodness of fit.\n",
    "\n",
    "import numpy as np\n",
    "import scipy\n",
    "\n",
    "p_values = []\n",
    "\n",
    "for i in range(10000):\n",
    "    \n",
    "    A_1 = []\n",
    "    \n",
    "    A_2 = []\n",
    "    \n",
    "    for j in population:\n",
    "        \n",
    "        hash_val = random.random()\n",
    "        \n",
    "        if hash_val <= 0.5:\n",
    "            A_2.append(j)\n",
    "        \n",
    "        else:\n",
    "            A_1.append(j)\n",
    "        \n",
    "    result=(stats.ttest_ind(A_1,A_2))\n",
    "    p_values.append(result.pvalue)"
   ]
  },
  {
   "cell_type": "code",
   "execution_count": 18,
   "metadata": {},
   "outputs": [
    {
     "data": {
      "text/plain": [
       "KstestResult(statistic=0.004665761913861394, pvalue=0.9814238402972115)"
      ]
     },
     "execution_count": 18,
     "metadata": {},
     "output_type": "execute_result"
    }
   ],
   "source": [
    "import scipy\n",
    "scipy.stats.kstest(p_values,\"uniform\")"
   ]
  },
  {
   "cell_type": "markdown",
   "metadata": {},
   "source": [
    "# Conclusion: \n",
    "- fail to reject the null hypothesis and conclude the p-values from the A/A tests follow a uniform distribution"
   ]
  },
  {
   "cell_type": "code",
   "execution_count": 30,
   "metadata": {},
   "outputs": [
    {
     "data": {
      "text/plain": [
       "KstestResult(statistic=0.9999999999998767, pvalue=0.0)"
      ]
     },
     "execution_count": 30,
     "metadata": {},
     "output_type": "execute_result"
    }
   ],
   "source": [
    "# The null hypothesis for kstest test assumes that the given data follows the specified distribution.\n",
    "# small p-value --> different distributions \n",
    "# big p-value --> same distributions\n",
    "import numpy as np\n",
    "import scipy\n",
    "\n",
    "\n",
    "dddd = np.random.normal(0,1,1000)\n",
    "kstest(dddd,'norm')"
   ]
  },
  {
   "cell_type": "code",
   "execution_count": 20,
   "metadata": {},
   "outputs": [
    {
     "data": {
      "text/plain": [
       "KstestResult(statistic=0.4999999999999999, pvalue=0.06558641975308652)"
      ]
     },
     "execution_count": 20,
     "metadata": {},
     "output_type": "execute_result"
    }
   ],
   "source": [
    "from scipy import stats\n",
    "x = np.linspace(-25, 17, 6)\n",
    "stats.kstest(x, 'norm')"
   ]
  },
  {
   "cell_type": "code",
   "execution_count": 24,
   "metadata": {},
   "outputs": [
    {
     "data": {
      "text/plain": [
       "KstestResult(statistic=0.03859901423041939, pvalue=0.09899489774451381)"
      ]
     },
     "execution_count": 24,
     "metadata": {},
     "output_type": "execute_result"
    }
   ],
   "source": [
    "from scipy.stats import kstest\n",
    "import numpy as np\n",
    "\n",
    "x = np.random.normal(0,1,1000)\n",
    "test_stat = kstest(x, 'norm')\n",
    "test_stat"
   ]
  },
  {
   "cell_type": "markdown",
   "metadata": {},
   "source": [
    "---"
   ]
  },
  {
   "cell_type": "markdown",
   "metadata": {},
   "source": [
    "# split at 0.2%"
   ]
  },
  {
   "cell_type": "code",
   "execution_count": 21,
   "metadata": {},
   "outputs": [],
   "source": [
    "# solution 2\n",
    "\n",
    "import numpy as np\n",
    "import scipy\n",
    "\n",
    "p_values = []\n",
    "\n",
    "for i in range(10000):\n",
    "    \n",
    "    A_1 = []\n",
    "    \n",
    "    A_2 = []\n",
    "    \n",
    "    for j in population:\n",
    "        \n",
    "        hash_val = random.random()\n",
    "        \n",
    "        if hash_val <= 0.2:\n",
    "            A_2.append(j)\n",
    "        \n",
    "        else:\n",
    "            A_1.append(j)\n",
    "        \n",
    "    result=(stats.ttest_ind(A_1,A_2))\n",
    "    \n",
    "    p_values.append(result.pvalue)"
   ]
  },
  {
   "cell_type": "code",
   "execution_count": 22,
   "metadata": {},
   "outputs": [
    {
     "data": {
      "text/plain": [
       "KstestResult(statistic=0.009005414094706121, pvalue=0.39198360324923237)"
      ]
     },
     "execution_count": 22,
     "metadata": {},
     "output_type": "execute_result"
    }
   ],
   "source": [
    "import scipy\n",
    "scipy.stats.kstest(p_values,\"uniform\")"
   ]
  },
  {
   "cell_type": "markdown",
   "metadata": {},
   "source": [
    "----"
   ]
  },
  {
   "cell_type": "markdown",
   "metadata": {},
   "source": [
    "# Part 2: A/A tests for Left Skewed Distribution with Heavy Users"
   ]
  },
  {
   "cell_type": "code",
   "execution_count": 1,
   "metadata": {
    "scrolled": true
   },
   "outputs": [
    {
     "data": {
      "text/plain": [
       "<Figure size 640x480 with 1 Axes>"
      ]
     },
     "metadata": {},
     "output_type": "display_data"
    }
   ],
   "source": [
    "# generate skewed distribution \n",
    "# source: https://stackoverflow.com/questions/24854965/create-random-numbers-with-left-skewed-probability-distribution\n",
    "\n",
    "from scipy.stats import skewnorm\n",
    "import matplotlib.pyplot as plt\n",
    "\n",
    "numValues = 10000\n",
    "maxValue = 1000\n",
    "skewness = -50   #Negative values are left skewed, positive values are right skewed.\n",
    "\n",
    "random_1 = skewnorm.rvs(a = skewness,loc=maxValue, size=numValues)  #Skewnorm function\n",
    "\n",
    "#random_1 = random_1 - min(random_1)      #Shift the set so the minimum value is equal to zero.\n",
    "#random_1 = random_1 / max(random_1)      #Standadize all the vlues between 0 and 1. \n",
    "#random_1 = random_1 * maxValue         #Multiply the standardized values by the maximum value.\n",
    "\n",
    "#Plot histogram to check skewness\n",
    "plt.hist(random_1,30,density=True, color = 'red', alpha=0.1)\n",
    "plt.show()"
   ]
  },
  {
   "cell_type": "code",
   "execution_count": 2,
   "metadata": {},
   "outputs": [
    {
     "data": {
      "text/plain": [
       "array([999.9315308 , 999.00985561, 998.7830595 , ..., 999.56253601,\n",
       "       999.87125823, 997.82424896])"
      ]
     },
     "execution_count": 2,
     "metadata": {},
     "output_type": "execute_result"
    }
   ],
   "source": [
    "random_1"
   ]
  },
  {
   "cell_type": "code",
   "execution_count": 3,
   "metadata": {
    "scrolled": true
   },
   "outputs": [
    {
     "data": {
      "text/plain": [
       "Ttest_indResult(statistic=0.7640304333604793, pvalue=0.44486713677102585)"
      ]
     },
     "execution_count": 3,
     "metadata": {},
     "output_type": "execute_result"
    }
   ],
   "source": [
    "#2. simulate the hashing process & single iteration\n",
    "\n",
    "import random\n",
    "\n",
    "A_1 = []\n",
    "\n",
    "A_2 = []\n",
    "\n",
    "for i in random_1:\n",
    "    \n",
    "    hash_val = random.random()\n",
    "    \n",
    "    if hash_val <= 0.5:\n",
    "        A_2.append(i)\n",
    "        \n",
    "    else:\n",
    "        A_1.append(i)\n",
    "        \n",
    "# two sample t test \n",
    "from scipy import stats\n",
    "\n",
    "stats.ttest_ind(A_1,A_2)"
   ]
  },
  {
   "cell_type": "code",
   "execution_count": 4,
   "metadata": {},
   "outputs": [],
   "source": [
    "#2. run A/A 10,000 times & check False Positive Rate\n",
    "import random\n",
    "from scipy import stats"
   ]
  },
  {
   "cell_type": "code",
   "execution_count": 5,
   "metadata": {},
   "outputs": [],
   "source": [
    "count_5_perc = 0 #False Positives\n",
    "count_10_perc = 0\n",
    "count_20_perc = 0\n",
    "count_30_perc = 0\n",
    "count_40_perc = 0\n",
    "count_50_perc = 0\n",
    "count_60_perc = 0\n",
    "count_70_perc = 0\n",
    "count_80_perc = 0\n",
    "count_90_perc = 0\n",
    "\n",
    "for i in range(10000):\n",
    "    \n",
    "    A_1 = []\n",
    "    \n",
    "    A_2 = []\n",
    "    \n",
    "    for j in random_1:\n",
    "        \n",
    "        hash_val = random.random()\n",
    "        \n",
    "        if hash_val <= 0.05:\n",
    "            A_2.append(j)\n",
    "        \n",
    "        else:\n",
    "            A_1.append(j)\n",
    "        \n",
    "    result = stats.ttest_ind(A_1,A_2)\n",
    "        \n",
    "    if result.pvalue <= 0.1:\n",
    "        count_10_perc+=1\n",
    "        \n",
    "    elif 0.1<result.pvalue<=0.2:\n",
    "        count_20_perc+=1\n",
    "    \n",
    "    elif 0.2<result.pvalue<=0.3:\n",
    "        count_30_perc+=1\n",
    "        \n",
    "    elif 0.3<result.pvalue<=0.4:\n",
    "        count_40_perc+=1\n",
    "        \n",
    "    elif 0.4<result.pvalue<=0.5:\n",
    "        count_50_perc+=1\n",
    "        \n",
    "    elif 0.5<result.pvalue<=0.6:\n",
    "        count_60_perc+=1\n",
    "        \n",
    "    elif 0.6<result.pvalue<=0.7:\n",
    "        count_70_perc+=1\n",
    "        \n",
    "    elif 0.7<result.pvalue<=0.8:\n",
    "        count_80_perc+=1\n",
    "        \n",
    "    elif 0.8<result.pvalue<=0.9:\n",
    "        count_90_perc+=1"
   ]
  },
  {
   "cell_type": "code",
   "execution_count": 6,
   "metadata": {},
   "outputs": [
    {
     "data": {
      "text/plain": [
       "0.0956"
      ]
     },
     "execution_count": 6,
     "metadata": {},
     "output_type": "execute_result"
    }
   ],
   "source": [
    "count_10_perc/10000"
   ]
  },
  {
   "cell_type": "code",
   "execution_count": 7,
   "metadata": {},
   "outputs": [
    {
     "data": {
      "text/plain": [
       "0.1017"
      ]
     },
     "execution_count": 7,
     "metadata": {},
     "output_type": "execute_result"
    }
   ],
   "source": [
    "count_20_perc/10000"
   ]
  },
  {
   "cell_type": "code",
   "execution_count": 8,
   "metadata": {},
   "outputs": [
    {
     "data": {
      "text/plain": [
       "0.1025"
      ]
     },
     "execution_count": 8,
     "metadata": {},
     "output_type": "execute_result"
    }
   ],
   "source": [
    "count_30_perc/10000"
   ]
  },
  {
   "cell_type": "code",
   "execution_count": 9,
   "metadata": {},
   "outputs": [],
   "source": [
    "# solution 2: perform the formal test using the Kolmogorov-Smirnov test (one-sample) for goodness of fit.\n",
    "\n",
    "import numpy as np\n",
    "import scipy\n",
    "\n",
    "p_values = []\n",
    "\n",
    "for i in range(10000):\n",
    "    \n",
    "    A_1 = []\n",
    "    \n",
    "    A_2 = []\n",
    "    \n",
    "    for j in random_1:\n",
    "        \n",
    "        hash_val = random.random()\n",
    "        \n",
    "        if hash_val <= 0.05:\n",
    "            A_2.append(j)\n",
    "        \n",
    "        else:\n",
    "            A_1.append(j)\n",
    "        \n",
    "    result=(stats.ttest_ind(A_1,A_2))\n",
    "    p_values.append(result.pvalue)"
   ]
  },
  {
   "cell_type": "code",
   "execution_count": 10,
   "metadata": {},
   "outputs": [
    {
     "data": {
      "text/plain": [
       "KstestResult(statistic=0.009942002617743362, pvalue=0.27626867831161056)"
      ]
     },
     "execution_count": 10,
     "metadata": {},
     "output_type": "execute_result"
    }
   ],
   "source": [
    "import scipy\n",
    "scipy.stats.kstest(p_values,\"uniform\")"
   ]
  },
  {
   "cell_type": "markdown",
   "metadata": {},
   "source": [
    "---"
   ]
  },
  {
   "cell_type": "markdown",
   "metadata": {},
   "source": [
    "# Part 3: can randomization lead to balanced distribution with heavy users (small percent)?"
   ]
  },
  {
   "cell_type": "code",
   "execution_count": 49,
   "metadata": {},
   "outputs": [
    {
     "data": {
      "text/plain": [
       "<matplotlib.axes._subplots.AxesSubplot at 0x7faa2d7f2f50>"
      ]
     },
     "execution_count": 49,
     "metadata": {},
     "output_type": "execute_result"
    },
    {
     "data": {
      "image/png": "[encoded data removed]",
      "text/plain": [
       "<Figure size 432x288 with 1 Axes>"
      ]
     },
     "metadata": {
      "needs_background": "light"
     },
     "output_type": "display_data"
    }
   ],
   "source": [
    "import numpy as np\n",
    "import seaborn as sns\n",
    "\n",
    "# 1: population\n",
    "np.random.seed(123)\n",
    "\n",
    "regular_user = np.random.normal(loc = 100, scale = 5, size = 1000)\n",
    "sns.distplot(regular_user)"
   ]
  },
  {
   "cell_type": "code",
   "execution_count": 55,
   "metadata": {},
   "outputs": [
    {
     "data": {
      "text/plain": [
       "<matplotlib.axes._subplots.AxesSubplot at 0x7faa2ec79850>"
      ]
     },
     "execution_count": 55,
     "metadata": {},
     "output_type": "execute_result"
    },
    {
     "data": {
      "image/png": "[encoded data removed]",
      "text/plain": [
       "<Figure size 432x288 with 1 Axes>"
      ]
     },
     "metadata": {
      "needs_background": "light"
     },
     "output_type": "display_data"
    }
   ],
   "source": [
    "# 5% heavy users \n",
    "heavy_users = np.random.normal(loc=120,scale = 25,size = 50)\n",
    "sns.distplot(heavy_users)"
   ]
  },
  {
   "cell_type": "code",
   "execution_count": 56,
   "metadata": {},
   "outputs": [],
   "source": [
    "total_user = []\n",
    "\n",
    "for i in heavy_users:\n",
    "    total_user.append(i)\n",
    "for j in regular_user:\n",
    "    total_user.append(j)"
   ]
  },
  {
   "cell_type": "code",
   "execution_count": 60,
   "metadata": {},
   "outputs": [
    {
     "data": {
      "text/plain": [
       "Ttest_indResult(statistic=0.40481427665266323, pvalue=0.6856966445371957)"
      ]
     },
     "execution_count": 60,
     "metadata": {},
     "output_type": "execute_result"
    }
   ],
   "source": [
    "#1. simulate the hashing process & single iteration\n",
    "\n",
    "import random\n",
    "\n",
    "A_1 = []\n",
    "\n",
    "A_2 = []\n",
    "\n",
    "for i in total_user:\n",
    "    \n",
    "    hash_val = random.random()\n",
    "    \n",
    "    if hash_val <= 0.5:\n",
    "        A_2.append(i)\n",
    "        \n",
    "    else:\n",
    "        A_1.append(i)\n",
    "        \n",
    "# two sample t test \n",
    "from scipy import stats\n",
    "\n",
    "stats.ttest_ind(A_1,A_2)"
   ]
  },
  {
   "cell_type": "code",
   "execution_count": 61,
   "metadata": {},
   "outputs": [],
   "source": [
    "# no difference "
   ]
  },
  {
   "cell_type": "code",
   "execution_count": 72,
   "metadata": {},
   "outputs": [
    {
     "data": {
      "text/plain": [
       "<matplotlib.axes._subplots.AxesSubplot at 0x7faa2f15e910>"
      ]
     },
     "execution_count": 72,
     "metadata": {},
     "output_type": "execute_result"
    },
    {
     "data": {
      "image/png": "[encoded data removed]",
      "text/plain": [
       "<Figure size 432x288 with 1 Axes>"
      ]
     },
     "metadata": {
      "needs_background": "light"
     },
     "output_type": "display_data"
    }
   ],
   "source": [
    "exponential = np.random.exponential(scale=2, size=1000)\n",
    "sns.distplot(exponential)"
   ]
  },
  {
   "cell_type": "code",
   "execution_count": 73,
   "metadata": {},
   "outputs": [
    {
     "data": {
      "text/plain": [
       "Ttest_indResult(statistic=0.1348387526112502, pvalue=0.8927665540225909)"
      ]
     },
     "execution_count": 73,
     "metadata": {},
     "output_type": "execute_result"
    }
   ],
   "source": [
    "#1. simulate the hashing process & single iteration\n",
    "\n",
    "import random\n",
    "\n",
    "A_1 = []\n",
    "\n",
    "A_2 = []\n",
    "\n",
    "for i in exponential:\n",
    "    \n",
    "    hash_val = random.random()\n",
    "    \n",
    "    if hash_val <= 0.5:\n",
    "        A_2.append(i)\n",
    "        \n",
    "    else:\n",
    "        A_1.append(i)\n",
    "        \n",
    "# two sample t test \n",
    "from scipy import stats\n",
    "\n",
    "stats.ttest_ind(A_1,A_2)"
   ]
  },
  {
   "cell_type": "markdown",
   "metadata": {},
   "source": [
    "---"
   ]
  },
  {
   "cell_type": "markdown",
   "metadata": {},
   "source": [
    "# Part 4: Check for Variability "
   ]
  },
  {
   "cell_type": "code",
   "execution_count": 23,
   "metadata": {},
   "outputs": [],
   "source": [
    "# Bootstrap & 70% sample size\n",
    "\n",
    "boot_diffs = []\n",
    "\n",
    "for i in range(10000):\n",
    "    boot_sample_1 = np.random.choice(A_1, replace=False, size = int(0.7*len(A_1)))\n",
    "    \n",
    "    boot_sample_2 = np.random.choice(A_2, replace= False, size = int(0.7*len(A_2)))\n",
    "    \n",
    "    result = stats.ttest_ind(boot_sample_1,boot_sample_2)\n",
    "\n",
    "    boot_diffs.append(result.pvalue)"
   ]
  },
  {
   "cell_type": "code",
   "execution_count": 25,
   "metadata": {},
   "outputs": [
    {
     "data": {
      "text/plain": [
       "0.0004"
      ]
     },
     "execution_count": 25,
     "metadata": {},
     "output_type": "execute_result"
    }
   ],
   "source": [
    "count= 0 \n",
    "\n",
    "for i in boot_diffs:\n",
    "    if i < 0.05:\n",
    "        count+=1\n",
    "        \n",
    "count/len(boot_diffs)"
   ]
  },
  {
   "cell_type": "markdown",
   "metadata": {},
   "source": [
    "---"
   ]
  },
  {
   "cell_type": "code",
   "execution_count": 26,
   "metadata": {},
   "outputs": [],
   "source": [
    "# Bootstrap & 80% sample size\n",
    "\n",
    "boot_diffs = []\n",
    "\n",
    "for i in range(10000):\n",
    "    boot_sample_1 = np.random.choice(A_1, replace=False, size = int(0.8*len(A_1)))\n",
    "    \n",
    "    boot_sample_2 = np.random.choice(A_2, replace= False, size = int(0.8*len(A_2)))\n",
    "    \n",
    "    result = stats.ttest_ind(boot_sample_1,boot_sample_2)\n",
    "\n",
    "    boot_diffs.append(result.pvalue)"
   ]
  },
  {
   "cell_type": "code",
   "execution_count": 27,
   "metadata": {},
   "outputs": [
    {
     "data": {
      "text/plain": [
       "0.0001"
      ]
     },
     "execution_count": 27,
     "metadata": {},
     "output_type": "execute_result"
    }
   ],
   "source": [
    "count= 0 \n",
    "\n",
    "for i in boot_diffs:\n",
    "    if i < 0.05:\n",
    "        count+=1\n",
    "        \n",
    "count/len(boot_diffs)"
   ]
  },
  {
   "cell_type": "markdown",
   "metadata": {},
   "source": [
    "---"
   ]
  },
  {
   "cell_type": "code",
   "execution_count": 28,
   "metadata": {},
   "outputs": [],
   "source": [
    "# Bootstrap & 90% sample size\n",
    "\n",
    "boot_diffs = []\n",
    "\n",
    "for i in range(10000):\n",
    "    boot_sample_1 = np.random.choice(A_1, replace=False, size = int(0.9*len(A_1)))\n",
    "    \n",
    "    boot_sample_2 = np.random.choice(A_2, replace= False, size = int(0.9*len(A_2)))\n",
    "    \n",
    "    result = stats.ttest_ind(boot_sample_1,boot_sample_2)\n",
    "\n",
    "    boot_diffs.append(result.pvalue)"
   ]
  },
  {
   "cell_type": "code",
   "execution_count": 29,
   "metadata": {},
   "outputs": [
    {
     "data": {
      "text/plain": [
       "0.0"
      ]
     },
     "execution_count": 29,
     "metadata": {},
     "output_type": "execute_result"
    }
   ],
   "source": [
    "count= 0 \n",
    "\n",
    "for i in boot_diffs:\n",
    "    if i < 0.05:\n",
    "        count+=1\n",
    "        \n",
    "count/len(boot_diffs)"
   ]
  },
  {
   "cell_type": "markdown",
   "metadata": {},
   "source": [
    "# Conclusion 1: for equal split & 90% sample size, the p value is 0.0101 (False Positive Rate);\n",
    "- Note: set replace = False; otherwise, it returns a high p value"
   ]
  },
  {
   "cell_type": "markdown",
   "metadata": {},
   "source": [
    "---"
   ]
  },
  {
   "cell_type": "code",
   "execution_count": 93,
   "metadata": {},
   "outputs": [],
   "source": [
    "# Bootstrap & 100% sample size\n",
    "\n",
    "boot_diffs_2 = []\n",
    "\n",
    "for i in range(10000):\n",
    "    \n",
    "    boot_sample_1 = np.random.choice(A_1, replace=False, size = len(A_1))\n",
    "    \n",
    "    boot_sample_2 = np.random.choice(A_2, replace= False, size = len(A_2))\n",
    "    \n",
    "    result = stats.ttest_ind(boot_sample_1,boot_sample_2)\n",
    "\n",
    "    boot_diffs_2.append(result.pvalue)"
   ]
  },
  {
   "cell_type": "code",
   "execution_count": 94,
   "metadata": {},
   "outputs": [
    {
     "data": {
      "text/plain": [
       "0.0"
      ]
     },
     "execution_count": 94,
     "metadata": {},
     "output_type": "execute_result"
    }
   ],
   "source": [
    "count= 0 \n",
    "for i in boot_diffs_2:\n",
    "    if i < 0.05:\n",
    "        count+=1\n",
    "count/len(boot_diffs_2)"
   ]
  },
  {
   "cell_type": "code",
   "execution_count": 97,
   "metadata": {},
   "outputs": [
    {
     "data": {
      "text/plain": [
       "{0.19427810106851318,\n",
       " 0.19427810106856205,\n",
       " 0.19427810106856214,\n",
       " 0.1942781010685622,\n",
       " 0.19427810106861107,\n",
       " 0.19427810106866003}"
      ]
     },
     "execution_count": 97,
     "metadata": {},
     "output_type": "execute_result"
    }
   ],
   "source": [
    "set(boot_diffs_2)"
   ]
  },
  {
   "cell_type": "markdown",
   "metadata": {},
   "source": [
    "# Conclusion 2: for equal split & 100% sample size, 0 percent of observing different distributions (False Positive Rate)\n",
    "- Note: set replace = False; otherwise, it returns a high p value"
   ]
  },
  {
   "cell_type": "markdown",
   "metadata": {},
   "source": [
    "---"
   ]
  },
  {
   "cell_type": "markdown",
   "metadata": {},
   "source": [
    "# Test for SRM & use a chi-square test"
   ]
  },
  {
   "cell_type": "code",
   "execution_count": 30,
   "metadata": {},
   "outputs": [
    {
     "data": {
      "text/plain": [
       "Power_divergenceResult(statistic=25.0, pvalue=5.733031437583875e-07)"
      ]
     },
     "execution_count": 30,
     "metadata": {},
     "output_type": "execute_result"
    }
   ],
   "source": [
    "from scipy.stats import chisquare \n",
    "half = int((len(A_1)+len(A_2))/2)\n",
    "chisquare([len(A_1),len(A_2)],f_exp = [half,half])"
   ]
  },
  {
   "cell_type": "markdown",
   "metadata": {},
   "source": [
    "# Conclusion 3: p_value = 0.327 & no SRM"
   ]
  }
 ],
 "metadata": {
  "kernelspec": {
   "display_name": "Python 3",
   "language": "python",
   "name": "python3"
  },
  "language_info": {
   "codemirror_mode": {
    "name": "ipython",
    "version": 3
   },
   "file_extension": ".py",
   "mimetype": "text/x-python",
   "name": "python",
   "nbconvert_exporter": "python",
   "pygments_lexer": "ipython3",
   "version": "3.7.4"
  }
 },
 "nbformat": 4,
 "nbformat_minor": 2
}
