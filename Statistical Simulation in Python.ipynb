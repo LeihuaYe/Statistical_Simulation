{
 "cells": [
  {
   "cell_type": "markdown",
   "metadata": {},
   "source": [
    "# 1. Uniform Distribution"
   ]
  },
  {
   "cell_type": "markdown",
   "metadata": {},
   "source": [
    "# Question 1\n",
    "- In R or Python, please answer the following question. \n",
    "- Condition 1: For a sequence of numbers, (a1,a2,a3,a4,...,an), please write a function that randomly returns each element, ai, with probability ai/∑ai. \n",
    "- Condition 2: For example, for a sequence (1,2,3,4), the function returns element with a probability 1/10, and 4 with a probability 4/10.\n",
    "- Condition 3: You can use any library, but no random.choice()."
   ]
  },
  {
   "cell_type": "code",
   "execution_count": 63,
   "metadata": {},
   "outputs": [],
   "source": [
    "import numpy as np \n",
    "\n",
    "def weight_func(sequence):\n",
    "\n",
    "    prob = [] # empty list to store probabilities of each element\n",
    "\n",
    "    cum_prob = []  # empty list to store cumulative probabilities of each element \n",
    "    \n",
    "    total_sum = sum(sequence) # total sum of the sequence\n",
    "    \n",
    "    uniform = np.random.uniform(0,1)  # a random value between 0 and 1 \n",
    "    \n",
    "    for i in range(len(sequence)): # create iterations for the sequence\n",
    "        \n",
    "        prob.append(sequence[i]/total_sum) # append the weighted probability (ai/∑ai) to the list, prob\n",
    "        \n",
    "        cum_prob.append(sum(prob)) # append the cumulative sum to the list, cum_prob \n",
    "        \n",
    "        if uniform < cum_prob[i]: # if the cumulative sum > uniform (the value generated from the uniform distribution)\n",
    "            break                 # end the for looop \n",
    "            \n",
    "        return sequence[i]        # and return the value at position i."
   ]
  },
  {
   "cell_type": "code",
   "execution_count": 66,
   "metadata": {},
   "outputs": [
    {
     "data": {
      "text/plain": [
       "1"
      ]
     },
     "execution_count": 66,
     "metadata": {},
     "output_type": "execute_result"
    }
   ],
   "source": [
    "weight_return([1,4,3,2]) # test case"
   ]
  },
  {
   "cell_type": "markdown",
   "metadata": {},
   "source": [
    "---"
   ]
  },
  {
   "cell_type": "markdown",
   "metadata": {},
   "source": [
    "# Question 2: Binomial Distribution"
   ]
  },
  {
   "cell_type": "markdown",
   "metadata": {},
   "source": [
    "An online shopping website (e.g., Amazon, Alibaba, etc.) wants to test out two versions of banners that will appear on the top of the website. The engineering team assigns the probability of visiting version A at 0.6 and version B 0.4. \n",
    "\n",
    "After 10,000 visits, there are 6050 visitors being exposed to version A and 3950 people exposed to version B. \n",
    "\n",
    "What is the probability that there are 6050 cases when the randomization process is correct? \n",
    "\n",
    "In other words, the probability for version A is indeed 0.6."
   ]
  },
  {
   "cell_type": "code",
   "execution_count": 68,
   "metadata": {},
   "outputs": [
    {
     "data": {
      "text/plain": [
       "0.1498"
      ]
     },
     "execution_count": 68,
     "metadata": {},
     "output_type": "execute_result"
    }
   ],
   "source": [
    "import numpy as np\n",
    "\n",
    "np.random.seed(123)\n",
    "\n",
    "def some_funct(number_trials, probability_A):\n",
    "    \n",
    "    binomial_dist = np.random.binomial(n = number_trials,p = probability_A,size=10000) # generate a binomial distribution with n = number, p \n",
    "    \n",
    "    count = 0 # initialize count\n",
    "    \n",
    "    for value in binomial_dist: #iterate over binomial_dist\n",
    "        \n",
    "        if value > 6050: # if value>6050, count+1\n",
    "            \n",
    "            count += 1\n",
    "            \n",
    "    return count/number_trials # return the probability that cases larger than 6050 out of number_trials \n",
    "\n",
    "some_funct(number_trials=10000, probability_A = 0.6)"
   ]
  },
  {
   "cell_type": "markdown",
   "metadata": {},
   "source": [
    "---"
   ]
  },
  {
   "cell_type": "markdown",
   "metadata": {},
   "source": [
    "# Question 3: Poisson Distribution"
   ]
  },
  {
   "cell_type": "markdown",
   "metadata": {},
   "source": [
    "My medium blog has 500 visits per day, and the number of visits follows a Poisson distribution. Out of 1000 times, what is the ratio that there would be more than 510 visits per day? "
   ]
  },
  {
   "cell_type": "code",
   "execution_count": 165,
   "metadata": {},
   "outputs": [],
   "source": [
    "import numpy as np \n",
    "\n",
    "np.random.seed(123)\n",
    "\n",
    "def Poisson(value_1,value_2): # two arguments\n",
    "    \n",
    "    count = 0                 # initialize the counter\n",
    "\n",
    "    poisson = np.random.poisson(lam=value_1,size = value_2) # a poisson distribution\n",
    "\n",
    "    for i in poisson:         # iteration\n",
    "        \n",
    "        if i > 510:           # if clause to count numbers\n",
    "            \n",
    "            count+=1 \n",
    "            \n",
    "    return(count/value_2)     # return the value"
   ]
  },
  {
   "cell_type": "code",
   "execution_count": 166,
   "metadata": {},
   "outputs": [
    {
     "data": {
      "text/plain": [
       "0.318"
      ]
     },
     "execution_count": 166,
     "metadata": {},
     "output_type": "execute_result"
    }
   ],
   "source": [
    "Poisson(500,1000)"
   ]
  },
  {
   "cell_type": "markdown",
   "metadata": {},
   "source": [
    "---"
   ]
  },
  {
   "cell_type": "markdown",
   "metadata": {},
   "source": [
    "# Question 4: Normal Distribution\n",
    "Write a function to generate X samples from a normal distribution and plot the histogram."
   ]
  },
  {
   "cell_type": "code",
   "execution_count": 21,
   "metadata": {},
   "outputs": [],
   "source": [
    "import numpy as np \n",
    "\n",
    "np.random.seed(123)\n",
    "\n",
    "def normal_func(X):\n",
    "    \n",
    "    norm_dist = np.random.normal(loc=10,scale=2,size=100)\n",
    "    \n",
    "    result = np.random.choice(norm_dist, X)\n",
    "    \n",
    "    return(result)"
   ]
  },
  {
   "cell_type": "code",
   "execution_count": 22,
   "metadata": {},
   "outputs": [
    {
     "data": {
      "text/plain": [
       "array([ 7.27305691,  6.98741057, 14.37357218, 14.17422672,  7.57495374,\n",
       "       10.39904815,  7.27305691,  7.41182935, 10.565957  , 12.0081078 ])"
      ]
     },
     "execution_count": 22,
     "metadata": {},
     "output_type": "execute_result"
    }
   ],
   "source": [
    "X_samples = normal_func(10)\n",
    "X_samples"
   ]
  },
  {
   "cell_type": "code",
   "execution_count": 23,
   "metadata": {},
   "outputs": [
    {
     "data": {
      "text/plain": [
       "(array([5., 0., 0., 0., 2., 0., 1., 0., 0., 2.]),\n",
       " array([ 6.98741057,  7.72602673,  8.46464289,  9.20325905,  9.94187521,\n",
       "        10.68049138, 11.41910754, 12.1577237 , 12.89633986, 13.63495602,\n",
       "        14.37357218]),\n",
       " <a list of 10 Patch objects>)"
      ]
     },
     "execution_count": 23,
     "metadata": {},
     "output_type": "execute_result"
    },
    {
     "data": {
      "image/png": "[encoded data removed]",
      "text/plain": [
       "<Figure size 432x288 with 1 Axes>"
      ]
     },
     "metadata": {
      "needs_background": "light"
     },
     "output_type": "display_data"
    }
   ],
   "source": [
    "import matplotlib.pyplot as plt\n",
    "\n",
    "plt.hist(X_samples)"
   ]
  },
  {
   "cell_type": "markdown",
   "metadata": {},
   "source": [
    "---"
   ]
  }
 ],
 "metadata": {
  "kernelspec": {
   "display_name": "Python 3",
   "language": "python",
   "name": "python3"
  },
  "language_info": {
   "codemirror_mode": {
    "name": "ipython",
    "version": 3
   },
   "file_extension": ".py",
   "mimetype": "text/x-python",
   "name": "python",
   "nbconvert_exporter": "python",
   "pygments_lexer": "ipython3",
   "version": "3.7.4"
  }
 },
 "nbformat": 4,
 "nbformat_minor": 2
}
